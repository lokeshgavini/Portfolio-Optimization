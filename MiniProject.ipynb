{
 "cells": [
  {
   "cell_type": "code",
   "execution_count": 139,
   "metadata": {},
   "outputs": [],
   "source": [
    "import numpy as np\n",
    "import pandas as pd\n",
    "import matplotlib.pyplot as plt"
   ]
  },
  {
   "attachments": {},
   "cell_type": "markdown",
   "metadata": {},
   "source": [
    "## **Optimal Portfolio Construction** \n",
    " **Using Monte-Carlo Method**"
   ]
  },
  {
   "cell_type": "code",
   "execution_count": 140,
   "metadata": {},
   "outputs": [
    {
     "data": {
      "text/html": [
       "<div>\n",
       "<style scoped>\n",
       "    .dataframe tbody tr th:only-of-type {\n",
       "        vertical-align: middle;\n",
       "    }\n",
       "\n",
       "    .dataframe tbody tr th {\n",
       "        vertical-align: top;\n",
       "    }\n",
       "\n",
       "    .dataframe thead th {\n",
       "        text-align: right;\n",
       "    }\n",
       "</style>\n",
       "<table border=\"1\" class=\"dataframe\">\n",
       "  <thead>\n",
       "    <tr style=\"text-align: right;\">\n",
       "      <th></th>\n",
       "      <th>Date</th>\n",
       "      <th>INFY Chg%</th>\n",
       "      <th>RELI Chg%</th>\n",
       "      <th>SBI Chg%</th>\n",
       "      <th>ITC Chg%</th>\n",
       "      <th>ASOK Chg%</th>\n",
       "      <th>TITN Chg%</th>\n",
       "      <th>ASPN Chg%</th>\n",
       "      <th>CIPL Chg%</th>\n",
       "      <th>LART Chg%</th>\n",
       "      <th>HAPL Chg%</th>\n",
       "      <th>BLDT Chg%</th>\n",
       "      <th>PVR Chg%</th>\n",
       "    </tr>\n",
       "  </thead>\n",
       "  <tbody>\n",
       "    <tr>\n",
       "      <th>0</th>\n",
       "      <td>2023-02-01 00:00:00</td>\n",
       "      <td>-0.0301</td>\n",
       "      <td>-0.0133</td>\n",
       "      <td>-0.0555</td>\n",
       "      <td>0.0056</td>\n",
       "      <td>-0.0268</td>\n",
       "      <td>-0.0018</td>\n",
       "      <td>0.0378</td>\n",
       "      <td>-0.1096</td>\n",
       "      <td>-0.0072</td>\n",
       "      <td>0.0127</td>\n",
       "      <td>-0.0167</td>\n",
       "      <td>-0.1077</td>\n",
       "    </tr>\n",
       "    <tr>\n",
       "      <th>1</th>\n",
       "      <td>2023-01-01 00:00:00</td>\n",
       "      <td>0.0169</td>\n",
       "      <td>-0.0759</td>\n",
       "      <td>-0.0981</td>\n",
       "      <td>0.0691</td>\n",
       "      <td>0.0425</td>\n",
       "      <td>-0.0848</td>\n",
       "      <td>-0.1172</td>\n",
       "      <td>-0.0539</td>\n",
       "      <td>0.0185</td>\n",
       "      <td>-0.0187</td>\n",
       "      <td>-0.1804</td>\n",
       "      <td>-0.0108</td>\n",
       "    </tr>\n",
       "    <tr>\n",
       "      <th>2</th>\n",
       "      <td>2022-12-01 00:00:00</td>\n",
       "      <td>-0.0775</td>\n",
       "      <td>-0.0674</td>\n",
       "      <td>0.0187</td>\n",
       "      <td>0.0627</td>\n",
       "      <td>-0.0363</td>\n",
       "      <td>-0.0209</td>\n",
       "      <td>-0.0275</td>\n",
       "      <td>-0.0559</td>\n",
       "      <td>0.0053</td>\n",
       "      <td>0.0441</td>\n",
       "      <td>0.0134</td>\n",
       "      <td>-0.0708</td>\n",
       "    </tr>\n",
       "    <tr>\n",
       "      <th>3</th>\n",
       "      <td>2022-11-01 00:00:00</td>\n",
       "      <td>0.0633</td>\n",
       "      <td>0.0713</td>\n",
       "      <td>0.0499</td>\n",
       "      <td>-0.0249</td>\n",
       "      <td>-0.0294</td>\n",
       "      <td>-0.0393</td>\n",
       "      <td>0.0217</td>\n",
       "      <td>-0.0238</td>\n",
       "      <td>0.0256</td>\n",
       "      <td>-0.0731</td>\n",
       "      <td>0.0023</td>\n",
       "      <td>0.0425</td>\n",
       "    </tr>\n",
       "    <tr>\n",
       "      <th>4</th>\n",
       "      <td>2022-10-01 00:00:00</td>\n",
       "      <td>0.0879</td>\n",
       "      <td>0.0723</td>\n",
       "      <td>0.0814</td>\n",
       "      <td>-0.0249</td>\n",
       "      <td>0.0043</td>\n",
       "      <td>0.0593</td>\n",
       "      <td>-0.0702</td>\n",
       "      <td>0.0470</td>\n",
       "      <td>0.0949</td>\n",
       "      <td>-0.0865</td>\n",
       "      <td>-0.1428</td>\n",
       "      <td>-0.0089</td>\n",
       "    </tr>\n",
       "  </tbody>\n",
       "</table>\n",
       "</div>"
      ],
      "text/plain": [
       "                  Date  INFY Chg%  RELI Chg%  SBI Chg%  ITC Chg%  ASOK Chg%  \\\n",
       "0  2023-02-01 00:00:00    -0.0301    -0.0133   -0.0555    0.0056    -0.0268   \n",
       "1  2023-01-01 00:00:00     0.0169    -0.0759   -0.0981    0.0691     0.0425   \n",
       "2  2022-12-01 00:00:00    -0.0775    -0.0674    0.0187    0.0627    -0.0363   \n",
       "3  2022-11-01 00:00:00     0.0633     0.0713    0.0499   -0.0249    -0.0294   \n",
       "4  2022-10-01 00:00:00     0.0879     0.0723    0.0814   -0.0249     0.0043   \n",
       "\n",
       "   TITN Chg%  ASPN Chg%  CIPL Chg%  LART Chg%  HAPL Chg%  BLDT Chg%  PVR Chg%  \n",
       "0    -0.0018     0.0378    -0.1096    -0.0072     0.0127    -0.0167   -0.1077  \n",
       "1    -0.0848    -0.1172    -0.0539     0.0185    -0.0187    -0.1804   -0.0108  \n",
       "2    -0.0209    -0.0275    -0.0559     0.0053     0.0441     0.0134   -0.0708  \n",
       "3    -0.0393     0.0217    -0.0238     0.0256    -0.0731     0.0023    0.0425  \n",
       "4     0.0593    -0.0702     0.0470     0.0949    -0.0865    -0.1428   -0.0089  "
      ]
     },
     "execution_count": 140,
     "metadata": {},
     "output_type": "execute_result"
    }
   ],
   "source": [
    "month_ret = pd.read_excel('monthly_returns.xlsx')\n",
    "month_ret.head()"
   ]
  },
  {
   "cell_type": "code",
   "execution_count": 141,
   "metadata": {},
   "outputs": [
    {
     "data": {
      "text/html": [
       "<div>\n",
       "<style scoped>\n",
       "    .dataframe tbody tr th:only-of-type {\n",
       "        vertical-align: middle;\n",
       "    }\n",
       "\n",
       "    .dataframe tbody tr th {\n",
       "        vertical-align: top;\n",
       "    }\n",
       "\n",
       "    .dataframe thead th {\n",
       "        text-align: right;\n",
       "    }\n",
       "</style>\n",
       "<table border=\"1\" class=\"dataframe\">\n",
       "  <thead>\n",
       "    <tr style=\"text-align: right;\">\n",
       "      <th></th>\n",
       "      <th>Date</th>\n",
       "      <th>Rm (%)</th>\n",
       "      <th>Rf(%)</th>\n",
       "    </tr>\n",
       "  </thead>\n",
       "  <tbody>\n",
       "    <tr>\n",
       "      <th>0</th>\n",
       "      <td>2022-12</td>\n",
       "      <td>-0.039768</td>\n",
       "      <td>0.005074</td>\n",
       "    </tr>\n",
       "    <tr>\n",
       "      <th>1</th>\n",
       "      <td>2022-11</td>\n",
       "      <td>0.023095</td>\n",
       "      <td>0.005074</td>\n",
       "    </tr>\n",
       "    <tr>\n",
       "      <th>2</th>\n",
       "      <td>2022-10</td>\n",
       "      <td>0.018024</td>\n",
       "      <td>0.005163</td>\n",
       "    </tr>\n",
       "    <tr>\n",
       "      <th>3</th>\n",
       "      <td>2022-09</td>\n",
       "      <td>-0.035792</td>\n",
       "      <td>0.004749</td>\n",
       "    </tr>\n",
       "    <tr>\n",
       "      <th>4</th>\n",
       "      <td>2022-08</td>\n",
       "      <td>0.048899</td>\n",
       "      <td>0.004772</td>\n",
       "    </tr>\n",
       "  </tbody>\n",
       "</table>\n",
       "</div>"
      ],
      "text/plain": [
       "      Date    Rm (%)     Rf(%)\n",
       "0  2022-12 -0.039768  0.005074\n",
       "1  2022-11  0.023095  0.005074\n",
       "2  2022-10  0.018024  0.005163\n",
       "3  2022-09 -0.035792  0.004749\n",
       "4  2022-08  0.048899  0.004772"
      ]
     },
     "execution_count": 141,
     "metadata": {},
     "output_type": "execute_result"
    }
   ],
   "source": [
    "Rf_data = pd.read_excel('RmRf_data.xlsx', 'Rm-rf-data-monthly-1993-2022')\n",
    "Rf_data.head()"
   ]
  },
  {
   "cell_type": "code",
   "execution_count": 142,
   "metadata": {},
   "outputs": [],
   "source": [
    "# print(month_ret.shape)\n",
    "# N = int(input(\"Enter No. of months to average(max 82): \"))\n",
    "N = 50      # No. of months to average for\n",
    "month_ret = month_ret.iloc[:N, :]\n",
    "\n",
    "port_size = month_ret.shape[1]-1"
   ]
  },
  {
   "cell_type": "code",
   "execution_count": 143,
   "metadata": {},
   "outputs": [
    {
     "name": "stdout",
     "output_type": "stream",
     "text": [
      "(12,)\n"
     ]
    }
   ],
   "source": [
    "avg_ret = month_ret.mean(axis=0,numeric_only=1)\n",
    "print(avg_ret.shape)\n",
    "covMat = month_ret.cov(numeric_only=1)\n",
    "\n",
    "Rf = Rf_data.iloc[:N,-1]\n",
    "avg_rf = Rf.mean(numeric_only=1)\n",
    "\n",
    "# print(avg_ret, avg_rf)"
   ]
  },
  {
   "cell_type": "code",
   "execution_count": 144,
   "metadata": {},
   "outputs": [
    {
     "name": "stdout",
     "output_type": "stream",
     "text": [
      "(35000, 12) (35000, 1)\n"
     ]
    }
   ],
   "source": [
    "##### creating samples for Monte-Carlo method\n",
    "iter = 35000     # No. of samples for MC\n",
    "# amount = 1      # Amount to be invested\n",
    "# # No Capital Rationing\n",
    "\n",
    "wt = np.random.random_sample((iter,port_size))\n",
    "wt_sum = np.sum(wt, axis=1)\n",
    "wt_sum = np.reshape(wt_sum, (wt_sum.size,1))\n",
    "print(wt.shape, wt_sum.shape)\n",
    "weights = np.divide(wt, wt_sum)\n",
    "# print(wt[:4,:],'\\n',wt_sum,'\\n',weights[:4,:])"
   ]
  },
  {
   "cell_type": "code",
   "execution_count": 145,
   "metadata": {},
   "outputs": [
    {
     "data": {
      "text/plain": [
       "(array([5537., 5848., 6254., 6538., 6356., 3278.,  946.,  202.,   32.,\n",
       "           9.]),\n",
       " array([1.69948298e-06, 2.80958715e-02, 5.61900435e-02, 8.42842155e-02,\n",
       "        1.12378388e-01, 1.40472560e-01, 1.68566732e-01, 1.96660904e-01,\n",
       "        2.24755076e-01, 2.52849248e-01, 2.80943420e-01]),\n",
       " <BarContainer object of 10 artists>)"
      ]
     },
     "execution_count": 145,
     "metadata": {},
     "output_type": "execute_result"
    },
    {
     "data": {
      "image/png": "[encoded data removed]",
      "text/plain": [
       "<Figure size 640x480 with 1 Axes>"
      ]
     },
     "metadata": {},
     "output_type": "display_data"
    }
   ],
   "source": [
    "plt.hist(weights[:,0])\n"
   ]
  },
  {
   "cell_type": "code",
   "execution_count": 146,
   "metadata": {},
   "outputs": [
    {
     "data": {
      "text/plain": [
       "array([[5.66660397],\n",
       "       [5.38987174],\n",
       "       [5.44076329],\n",
       "       ...,\n",
       "       [6.55869458],\n",
       "       [6.6521079 ],\n",
       "       [5.19262559]])"
      ]
     },
     "execution_count": 146,
     "metadata": {},
     "output_type": "execute_result"
    }
   ],
   "source": [
    "wt_sum\n"
   ]
  },
  {
   "cell_type": "code",
   "execution_count": 147,
   "metadata": {},
   "outputs": [
    {
     "name": "stdout",
     "output_type": "stream",
     "text": [
      "Portfolio with Max. Sharpe Ratio : \n",
      " Return: 0.017448828035310344 \n",
      "      Risk: 0.049487313261404015 \n",
      " Stock Proportion: [0.25302991 0.08820314 0.06057611 0.11784275 0.03463836 0.09747387\n",
      " 0.11470221 0.04708379 0.01718329 0.10400913 0.05966978 0.00558765] \n",
      "\n",
      "Portfolio with Min Risk : \n",
      " Return: 0.015333318000963944 \n",
      "      Risk: 0.04205604280885938 \n",
      " Stock Proportion: [0.15985359 0.05220461 0.07628362 0.24103471 0.02964932 0.03398557\n",
      " 0.14811079 0.10019617 0.02428028 0.05945747 0.05482272 0.02012115]\n"
     ]
    }
   ],
   "source": [
    "###### Expected return, risk calculation\n",
    "port_ret    = []\n",
    "port_risk   = []\n",
    "port_sharpe = []\n",
    "for i in range(iter):\n",
    "    ret = weights[i,:] @ avg_ret\n",
    "    var =  weights[i,:] @ covMat @ weights[i,:]\n",
    "    risk = np.sqrt(var) \n",
    "    ratio = (ret - avg_rf)/risk\n",
    "\n",
    "    port_ret.append(ret)\n",
    "    port_risk.append(risk)\n",
    "    port_sharpe.append(ratio)\n",
    "    \n",
    "# print(len(port_ret), len(port_risk))\n",
    "sharpe_ind = port_sharpe.index(max(port_sharpe))\n",
    "minvar_ind = port_risk.index(min(port_risk))\n",
    "maxret_ind = port_ret.index(max(port_ret))\n",
    "print(f'Portfolio with Max. Sharpe Ratio : \\n Return: {port_ret[sharpe_ind]} \\n\\\n",
    "      Risk: {port_risk[sharpe_ind]} \\n Stock Proportion: {weights[sharpe_ind, :]} ')\n",
    "\n",
    "print(f'\\nPortfolio with Min Risk : \\n Return: {port_ret[minvar_ind]} \\n\\\n",
    "      Risk: {port_risk[minvar_ind]} \\n Stock Proportion: {weights[minvar_ind, :]}')\n"
   ]
  },
  {
   "cell_type": "code",
   "execution_count": 148,
   "metadata": {},
   "outputs": [],
   "source": [
    "#### Interpolate Efficient frontier\n"
   ]
  },
  {
   "cell_type": "code",
   "execution_count": null,
   "metadata": {},
   "outputs": [],
   "source": []
  },
  {
   "attachments": {},
   "cell_type": "markdown",
   "metadata": {},
   "source": [
    "Find Market cap weighted portfolio, given user risk/ret cal. other quantity\n"
   ]
  },
  {
   "attachments": {},
   "cell_type": "markdown",
   "metadata": {},
   "source": [
    " **Using Quadratic-Programming Method**"
   ]
  },
  {
   "cell_type": "code",
   "execution_count": 149,
   "metadata": {},
   "outputs": [],
   "source": [
    "import cvxpy as cp\n",
    "\n",
    "## Problem Setup\n",
    "w = cp.Variable(port_size)\n",
    "mu = avg_ret.to_numpy()\n",
    "mu = np.reshape(mu, (mu.size,1))\n",
    "gamma = cp.Parameter(nonneg=True)   #risk-aversion parameter  \n",
    "ret = mu.T @ w\n",
    "risk = cp.quad_form(w, covMat)\n",
    "prob = cp.Problem(cp.Maximize(ret - gamma * risk), [cp.sum(w) == 1, w>=0])\n"
   ]
  },
  {
   "cell_type": "code",
   "execution_count": 150,
   "metadata": {},
   "outputs": [],
   "source": [
    "# Compute trade-off curve.\n",
    "SAMPLES = 100\n",
    "risk_data = np.zeros(SAMPLES)\n",
    "ret_data = np.zeros(SAMPLES)\n",
    "gamma_vals = np.logspace(-2, 3, num=SAMPLES)\n",
    "for i in range(SAMPLES):\n",
    "    gamma.value = gamma_vals[i]\n",
    "    prob.solve()\n",
    "    risk_data[i] = cp.sqrt(risk).value\n",
    "    ret_data[i] = ret.value\n",
    "\n"
   ]
  },
  {
   "cell_type": "code",
   "execution_count": 151,
   "metadata": {},
   "outputs": [
    {
     "data": {
      "text/plain": [
       "Text(0, 0.5, 'Return')"
      ]
     },
     "execution_count": 151,
     "metadata": {},
     "output_type": "execute_result"
    },
    {
     "data": {
      "image/png": "[encoded data removed]",
      "text/plain": [
       "<Figure size 640x480 with 1 Axes>"
      ]
     },
     "metadata": {},
     "output_type": "display_data"
    }
   ],
   "source": [
    "plt.plot(risk_data, ret_data, \"g-\")\n",
    "\n",
    "plt.scatter(port_risk, port_ret, s=0.6)\n",
    "# plt.scatter(0,avg_rf,s=25, marker='*', label='RiskFree')\n",
    "plt.scatter(port_risk[minvar_ind],port_ret[minvar_ind],s=25, marker='*', label='MinRisk')\n",
    "plt.scatter(port_risk[maxret_ind],port_ret[maxret_ind],s=25, marker='*', label='MaxReturn')\n",
    "plt.scatter(port_risk[sharpe_ind],port_ret[sharpe_ind],s=25, marker='*', label='MaxSharpeRatio')\n",
    "plt.legend()\n",
    "\n",
    "plt.xlabel(\"Risk\")\n",
    "plt.ylabel(\"Return\")"
   ]
  },
  {
   "cell_type": "code",
   "execution_count": null,
   "metadata": {},
   "outputs": [],
   "source": []
  }
 ],
 "metadata": {
  "kernelspec": {
   "display_name": "Python 3",
   "language": "python",
   "name": "python3"
  },
  "language_info": {
   "codemirror_mode": {
    "name": "ipython",
    "version": 3
   },
   "file_extension": ".py",
   "mimetype": "text/x-python",
   "name": "python",
   "nbconvert_exporter": "python",
   "pygments_lexer": "ipython3",
   "version": "3.10.10"
  },
  "orig_nbformat": 4
 },
 "nbformat": 4,
 "nbformat_minor": 2
}
